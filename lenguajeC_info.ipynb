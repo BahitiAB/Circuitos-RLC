{
 "cells": [
  {
   "cell_type": "markdown",
   "metadata": {},
   "source": [
    "# Libros e Información sobre el Lenguaje C"
   ]
  },
  {
   "cell_type": "markdown",
   "metadata": {},
   "source": [
    "# Libros C\n",
    "\n",
    "* Libro basico de C\n",
    "> The Ansi C Programming Language , *Brian W Kernighan, Dennis M Ritchie*\n",
    "\n",
    "Descargalo [aquí](https://b-ok.cc/book/639448/cd34bf)\n",
    "\n",
    "* Libro de C que enfatiza el uso de Putero (con funciones , structuras) y memoria de la memoria dinamica\n",
    "> Understanding and Using C Pointers: Core techniques for memory management , *Richard Reese*\n",
    "\n",
    "Descargalo [Aquí](https://b-ok.cc/book/2734788/2b7e71)\n",
    "\n",
    "\n",
    "# Tutoriales C (videos)\n",
    "\n",
    "* Tutorial basico desde Cero de C, miralo [Aquí](https://www.youtube.com/watch?v=9idgIGmQvAQ&list=PLw8RQJQ8K1ySN6bVHYEpDoh-CKVkL_uOF)\n",
    "\n",
    "\n",
    "# Depurador **gdb**\n",
    "\n",
    "* Documentación oficial del depurador gdb, leerlo [Aquí](https://www.gnu.org/software/gdb/documentation/)\n",
    "\n",
    "# Tutoriales (videos) depurador **gdb**\n",
    "* Tutorial breve de como depurar un Codigo C, miralo [Aqui](https://www.youtube.com/watch?v=sCtY--xRUyI)\n",
    "\n",
    "# Archivos Mikefiles (archivos de compilación)\n",
    "* Documentación de **GNU-make**, leelo [aquí](https://www.gnu.org/software/make/manual/make.html)\n",
    "\n",
    "# Tutoriales (videos) de archivos Makefile\n",
    "* Turorial de como crear un archivo **Makefile**, miralo [Aquí](https://www.youtube.com/watch?v=GExnnTaBELk)"
   ]
  }
 ],
 "metadata": {
  "kernelspec": {
   "display_name": "Python 3",
   "language": "python",
   "name": "python3"
  },
  "language_info": {
   "codemirror_mode": {
    "name": "ipython",
    "version": 3
   },
   "file_extension": ".py",
   "mimetype": "text/x-python",
   "name": "python",
   "nbconvert_exporter": "python",
   "pygments_lexer": "ipython3",
   "version": "3.7.3"
  }
 },
 "nbformat": 4,
 "nbformat_minor": 2
}
